{
 "cells": [
  {
   "cell_type": "code",
   "execution_count": null,
   "metadata": {},
   "outputs": [],
   "source": [
    "!pip install langdetect html2text"
   ]
  },
  {
   "cell_type": "code",
   "execution_count": null,
   "metadata": {},
   "outputs": [],
   "source": [
    "!python -m pip install mysql-connector-python"
   ]
  },
  {
   "cell_type": "code",
   "execution_count": 3,
   "metadata": {},
   "outputs": [],
   "source": [
    "import pandas as pd\n",
    "import html2text\n",
    "import pickle\n",
    "import mysql.connector\n",
    "import cleaning_functions\n",
    "import connection_database"
   ]
  },
  {
   "cell_type": "markdown",
   "metadata": {},
   "source": [
    "## Connection to the database"
   ]
  },
  {
   "cell_type": "markdown",
   "metadata": {},
   "source": [
    "## Get data"
   ]
  },
  {
   "cell_type": "code",
   "execution_count": 5,
   "metadata": {},
   "outputs": [],
   "source": [
    "mydb = connection_database.connect_db()\n",
    "cursor = mydb.cursor()\n",
    "\n",
    "command = \"\"\"SELECT emails.id, body, organization_id FROM emails \n",
    "JOIN tasks ON emails.task_id=tasks.id \n",
    "WHERE organization_id IN \n",
    "(SELECT id FROM organizations WHERE default_pgrefid IS NULL)\n",
    "AND emails.from NOT LIKE '%@closure-services.nl%'\n",
    "AND emails.is_auto_receival=0\n",
    "AND emails.subject NOT LIKE \"%ntvangst bevestiging%\" \n",
    "AND emails.created_at > 20181231\"\"\"\n",
    "\n",
    "cursor.execute(command)\n",
    "table_rows = cursor.fetchall()\n",
    "emails = pd.DataFrame(table_rows, columns=cursor.column_names)"
   ]
  },
  {
   "cell_type": "markdown",
   "metadata": {},
   "source": [
    "## Convert HTML to text"
   ]
  },
  {
   "cell_type": "code",
   "execution_count": 7,
   "metadata": {},
   "outputs": [],
   "source": [
    "emails[\"body_text\"] = emails[\"body\"].apply(lambda x: html2text.html2text(x))\n",
    "emails = emails[[\"id\", \"body_text\", \"organization_id\"]]"
   ]
  },
  {
   "cell_type": "markdown",
   "metadata": {},
   "source": [
    "## Remove history of previous emails"
   ]
  },
  {
   "cell_type": "code",
   "execution_count": 8,
   "metadata": {},
   "outputs": [],
   "source": [
    "emails[\"no_history\"] = emails[\"body_text\"].apply(cleaning_functions.remove_history)"
   ]
  },
  {
   "cell_type": "markdown",
   "metadata": {},
   "source": [
    "## Keep only before greetings"
   ]
  },
  {
   "cell_type": "code",
   "execution_count": 9,
   "metadata": {},
   "outputs": [],
   "source": [
    "emails[\"before_regards\"] = emails[\"no_history\"].apply(cleaning_functions.remove_after_regards)"
   ]
  },
  {
   "cell_type": "markdown",
   "metadata": {},
   "source": [
    "## Remove url adresses"
   ]
  },
  {
   "cell_type": "code",
   "execution_count": 10,
   "metadata": {},
   "outputs": [],
   "source": [
    "emails[\"before_regards_clean\"] = emails[\"before_regards\"].apply(cleaning_functions.remove_url_emails)"
   ]
  },
  {
   "cell_type": "markdown",
   "metadata": {},
   "source": [
    "## Remove begining of the email (before dear)"
   ]
  },
  {
   "cell_type": "code",
   "execution_count": 11,
   "metadata": {},
   "outputs": [],
   "source": [
    "emails[\"only_body\"] = emails[\"before_regards_clean\"].apply(cleaning_functions.remove_before_dear)"
   ]
  },
  {
   "cell_type": "markdown",
   "metadata": {},
   "source": [
    "## Remove space at the end"
   ]
  },
  {
   "cell_type": "code",
   "execution_count": 12,
   "metadata": {},
   "outputs": [],
   "source": [
    "emails[\"only_body\"] = emails[\"only_body\"].apply(cleaning_functions.remove_space_end)"
   ]
  },
  {
   "cell_type": "markdown",
   "metadata": {},
   "source": [
    "## Keep only Dutch emails"
   ]
  },
  {
   "cell_type": "code",
   "execution_count": 13,
   "metadata": {},
   "outputs": [],
   "source": [
    "emails[\"is_Dutch\"] = emails[\"only_body\"].apply(cleaning_functions.check_Dutch)\n",
    "emails = emails.loc[emails['is_Dutch'] == 1]\n",
    "emails = emails[[\"id\", \"only_body\", \"organization_id\"]]"
   ]
  },
  {
   "cell_type": "markdown",
   "metadata": {},
   "source": [
    "## Save cleaned data"
   ]
  },
  {
   "cell_type": "code",
   "execution_count": 28,
   "metadata": {},
   "outputs": [],
   "source": [
    "with open('dutch_cleaned_emails_id_body_org.pkl', 'wb') as f:\n",
    "    pickle.dump(emails, f)"
   ]
  }
 ],
 "metadata": {
  "instance_type": "ml.t3.medium",
  "kernelspec": {
   "display_name": "Python 3 (Data Science)",
   "language": "python",
   "name": "python3__SAGEMAKER_INTERNAL__arn:aws:sagemaker:eu-west-1:470317259841:image/datascience-1.0"
  },
  "language_info": {
   "codemirror_mode": {
    "name": "ipython",
    "version": 3
   },
   "file_extension": ".py",
   "mimetype": "text/x-python",
   "name": "python",
   "nbconvert_exporter": "python",
   "pygments_lexer": "ipython3",
   "version": "3.7.10"
  }
 },
 "nbformat": 4,
 "nbformat_minor": 4
}
