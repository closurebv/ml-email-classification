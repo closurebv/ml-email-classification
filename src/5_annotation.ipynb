{
 "cells": [
  {
   "cell_type": "code",
   "execution_count": null,
   "metadata": {},
   "outputs": [],
   "source": [
    "#To be able to install textpack\n",
    "!conda install -y -c conda-forge sparse_dot_topn"
   ]
  },
  {
   "cell_type": "code",
   "execution_count": null,
   "metadata": {},
   "outputs": [],
   "source": [
    "!pip install textpack"
   ]
  },
  {
   "cell_type": "code",
   "execution_count": 5,
   "metadata": {},
   "outputs": [],
   "source": [
    "import pandas as pd\n",
    "import numpy as np\n",
    "import pickle\n",
    "import annotation_functions\n",
    "import connection_database\n",
    "from textpack import tp"
   ]
  },
  {
   "cell_type": "markdown",
   "metadata": {},
   "source": [
    "## Get emails where ID is in list of IDs for annotation (no outliers or duplicates)"
   ]
  },
  {
   "cell_type": "code",
   "execution_count": 19,
   "metadata": {},
   "outputs": [],
   "source": [
    "with open('list_ids_for_annotation.pkl', 'rb') as f:\n",
    "    ids_list = pickle.load(f)"
   ]
  },
  {
   "cell_type": "code",
   "execution_count": 20,
   "metadata": {},
   "outputs": [],
   "source": [
    "with open('dutch_cleaned_emails_id_body_org.pkl', 'rb') as f:\n",
    "    all_emails = pickle.load(f)"
   ]
  },
  {
   "cell_type": "code",
   "execution_count": 21,
   "metadata": {},
   "outputs": [],
   "source": [
    "mask = all_emails['id'].isin(ids_list)\n",
    "emails = all_emails.loc[mask]"
   ]
  },
  {
   "cell_type": "markdown",
   "metadata": {},
   "source": [
    "## Run textpack"
   ]
  },
  {
   "cell_type": "code",
   "execution_count": null,
   "metadata": {},
   "outputs": [],
   "source": [
    "emails = annotation_functions.group_emails(emails)"
   ]
  },
  {
   "cell_type": "markdown",
   "metadata": {},
   "source": [
    "## Get customer support labels"
   ]
  },
  {
   "cell_type": "code",
   "execution_count": 28,
   "metadata": {},
   "outputs": [],
   "source": [
    "with open('label_CS_actions.pkl', 'rb') as f:\n",
    "    email_labels = pickle.load(f)"
   ]
  },
  {
   "cell_type": "code",
   "execution_count": 29,
   "metadata": {},
   "outputs": [],
   "source": [
    "email_labels = email_labels.merge(emails[[\"id\", \"groups\", \"only_body\"]], on=\"id\")\n",
    "\n",
    "#Give an id to each TextPack group\n",
    "email_labels['id_group'] = email_labels.groupby(\"groups\").grouper.group_info[0]"
   ]
  },
  {
   "cell_type": "markdown",
   "metadata": {},
   "source": [
    "## Make the groups and count the labels within a group"
   ]
  },
  {
   "cell_type": "code",
   "execution_count": 253,
   "metadata": {},
   "outputs": [],
   "source": [
    "# 'count' represents within a group, the number of emails with a particular label\n",
    "emails_grouped = email_labels.groupby(['groups','label_modified', \"id_group\"]).size().to_frame('count').reset_index()"
   ]
  },
  {
   "cell_type": "markdown",
   "metadata": {},
   "source": [
    "## First group: grouped with at least two different labels by the customer support"
   ]
  },
  {
   "cell_type": "code",
   "execution_count": 299,
   "metadata": {},
   "outputs": [],
   "source": [
    "# Keep only if at least 2 different labels are involved for one group of emails\n",
    "emails_gr_dup = emails_grouped[emails_grouped.duplicated([\"id_group\"], keep = False)]\n",
    "\n",
    "# Groups where at least 2 different labels are involved for one group\n",
    "unique_dup = emails_grouped[emails_grouped.duplicated([\"groups\"])]"
   ]
  },
  {
   "cell_type": "code",
   "execution_count": 335,
   "metadata": {},
   "outputs": [],
   "source": [
    "unique_dup.to_excel(\"for_annotation_432.xlsx\")  "
   ]
  },
  {
   "cell_type": "markdown",
   "metadata": {},
   "source": [
    "## First group: after manual annotation"
   ]
  },
  {
   "cell_type": "code",
   "execution_count": 8,
   "metadata": {},
   "outputs": [],
   "source": [
    "labels_430 = pd.read_excel(\"for_annotation_432_completed.xlsx\")"
   ]
  },
  {
   "cell_type": "code",
   "execution_count": 9,
   "metadata": {},
   "outputs": [],
   "source": [
    "emails_430 = email_labels[[\"id\", \"label_modified\", \"groups\", \"only_body\", \"id_group\"]].merge(labels_430[[\"id_group\", \"manual_label\"]], on = \"id_group\")"
   ]
  },
  {
   "cell_type": "code",
   "execution_count": 16,
   "metadata": {},
   "outputs": [
    {
     "data": {
      "text/plain": [
       "0    5365\n",
       "2    3502\n",
       "3    1836\n",
       "1    1289\n",
       "4      27\n",
       "Name: manual_label, dtype: int64"
      ]
     },
     "execution_count": 16,
     "metadata": {},
     "output_type": "execute_result"
    }
   ],
   "source": [
    "emails_430.manual_label.value_counts()"
   ]
  },
  {
   "cell_type": "code",
   "execution_count": 10,
   "metadata": {},
   "outputs": [],
   "source": [
    "list_ids_430 = emails_430.id.tolist()"
   ]
  },
  {
   "cell_type": "markdown",
   "metadata": {},
   "source": [
    "## Second group: grouped with at least two emails + classified by the customer support by a label that is not \"solved\" "
   ]
  },
  {
   "cell_type": "code",
   "execution_count": 11,
   "metadata": {},
   "outputs": [],
   "source": [
    "mask = email_labels['id'].isin(list_ids_430)\n",
    "to_labelize = email_labels.loc[~mask]"
   ]
  },
  {
   "cell_type": "code",
   "execution_count": 32,
   "metadata": {},
   "outputs": [],
   "source": [
    "to_labelize_ = to_labelize.groupby(['groups', \"id_group\", \"label_modified\"]).size().to_frame('count').reset_index()\n",
    "to_labelize_gr = to_labelize_[to_labelize_[\"count\"] > 1]\n",
    "to_excel_no_0 = to_labelize_gr[to_labelize_gr.label_modified.isin([1,2,3])]"
   ]
  },
  {
   "cell_type": "code",
   "execution_count": 40,
   "metadata": {},
   "outputs": [],
   "source": [
    "to_excel_no_0.to_excel(\"for_annotation_200.xlsx\")  "
   ]
  },
  {
   "cell_type": "markdown",
   "metadata": {},
   "source": [
    "## Second group: after manual annotation"
   ]
  },
  {
   "cell_type": "code",
   "execution_count": 12,
   "metadata": {},
   "outputs": [],
   "source": [
    "labels_200 = pd.read_excel(\"for_annotation_200_completed.xlsx\")"
   ]
  },
  {
   "cell_type": "code",
   "execution_count": 13,
   "metadata": {},
   "outputs": [],
   "source": [
    "emails_200 = email_labels[[\"id\", \"label_modified\", \"groups\", \"only_body\", \"id_group\"]].merge(labels_200[[\"id_group\", \"manual_label\"]], on = \"id_group\")"
   ]
  },
  {
   "cell_type": "code",
   "execution_count": 47,
   "metadata": {},
   "outputs": [
    {
     "data": {
      "text/plain": [
       "1    355\n",
       "2    200\n",
       "4      4\n",
       "3      2\n",
       "Name: manual_label, dtype: int64"
      ]
     },
     "execution_count": 47,
     "metadata": {},
     "output_type": "execute_result"
    }
   ],
   "source": [
    "emails_200.manual_label.value_counts()"
   ]
  },
  {
   "cell_type": "code",
   "execution_count": 14,
   "metadata": {},
   "outputs": [],
   "source": [
    "emails_600 = pd.concat([emails_430, emails_200])"
   ]
  },
  {
   "cell_type": "code",
   "execution_count": 15,
   "metadata": {},
   "outputs": [
    {
     "data": {
      "text/plain": [
       "0    5365\n",
       "2    3702\n",
       "3    1838\n",
       "1    1644\n",
       "4      31\n",
       "Name: manual_label, dtype: int64"
      ]
     },
     "execution_count": 15,
     "metadata": {},
     "output_type": "execute_result"
    }
   ],
   "source": [
    "emails_600.manual_label.value_counts()"
   ]
  },
  {
   "cell_type": "code",
   "execution_count": 14,
   "metadata": {},
   "outputs": [],
   "source": [
    "list_ids_600 = emails_600.id.tolist()"
   ]
  },
  {
   "cell_type": "markdown",
   "metadata": {},
   "source": [
    "## Third group: grouped with at least three emails + classified by the customer support as \"solved\""
   ]
  },
  {
   "cell_type": "code",
   "execution_count": 15,
   "metadata": {},
   "outputs": [],
   "source": [
    "mask = email_labels['id'].isin(list_ids_600)\n",
    "to_labelize = email_labels.loc[~mask]"
   ]
  },
  {
   "cell_type": "code",
   "execution_count": 17,
   "metadata": {},
   "outputs": [],
   "source": [
    "to_labelize_ = to_labelize.groupby(['groups', \"id_group\", \"label_modified\"]).size().to_frame('count').reset_index()\n",
    "to_labelize_gr = to_labelize_[to_labelize_[\"count\"] > 2]"
   ]
  },
  {
   "cell_type": "code",
   "execution_count": 32,
   "metadata": {},
   "outputs": [],
   "source": [
    "to_labelize_gr.to_excel(\"for_annotation_780.xlsx\")  "
   ]
  },
  {
   "cell_type": "markdown",
   "metadata": {},
   "source": [
    "## Third group: after manual annotation"
   ]
  },
  {
   "cell_type": "code",
   "execution_count": 16,
   "metadata": {},
   "outputs": [],
   "source": [
    "labels_780 = pd.read_excel(\"for_annotation_780_completed.xlsx\")"
   ]
  },
  {
   "cell_type": "code",
   "execution_count": 18,
   "metadata": {},
   "outputs": [],
   "source": [
    "emails_780 = email_labels[[\"id\", \"label_modified\", \"groups\", \"only_body\", \"id_group\"]].merge(labels_780[[\"id_group\", \"manual_label\"]], on = \"id_group\")"
   ]
  },
  {
   "cell_type": "code",
   "execution_count": 21,
   "metadata": {},
   "outputs": [
    {
     "data": {
      "text/plain": [
       "0    8873\n",
       "3     776\n",
       "2     592\n",
       "4     308\n",
       "1      17\n",
       "Name: manual_label, dtype: int64"
      ]
     },
     "execution_count": 21,
     "metadata": {},
     "output_type": "execute_result"
    }
   ],
   "source": [
    "emails_780.manual_label.value_counts()"
   ]
  },
  {
   "cell_type": "markdown",
   "metadata": {},
   "source": [
    "## After the 3 manual annotations"
   ]
  },
  {
   "cell_type": "code",
   "execution_count": 23,
   "metadata": {},
   "outputs": [],
   "source": [
    "emails_3 = pd.concat([emails_600, emails_780])"
   ]
  },
  {
   "cell_type": "code",
   "execution_count": 24,
   "metadata": {},
   "outputs": [
    {
     "data": {
      "text/plain": [
       "0    14238\n",
       "2     4294\n",
       "3     2614\n",
       "1     1661\n",
       "4      339\n",
       "Name: manual_label, dtype: int64"
      ]
     },
     "execution_count": 24,
     "metadata": {},
     "output_type": "execute_result"
    }
   ],
   "source": [
    "emails_3.manual_label.value_counts()"
   ]
  },
  {
   "cell_type": "code",
   "execution_count": 25,
   "metadata": {},
   "outputs": [],
   "source": [
    "# Remove emails with label 4 = we don't know\n",
    "emails_3 = emails_3[emails_3.manual_label != 4]"
   ]
  },
  {
   "cell_type": "markdown",
   "metadata": {},
   "source": [
    "## Add the automatic emails found in the other annotation notebook"
   ]
  },
  {
   "cell_type": "code",
   "execution_count": 6,
   "metadata": {},
   "outputs": [],
   "source": [
    "with open('list_ids_labels3.pkl', 'rb') as f:\n",
    "    list_ids_label3 = pickle.load(f)"
   ]
  },
  {
   "cell_type": "code",
   "execution_count": 10,
   "metadata": {},
   "outputs": [],
   "source": [
    "mask = all_emails['id'].isin(list_ids_label3)\n",
    "emails_to_add = all_emails.loc[mask]\n",
    "\n",
    "emails_to_add = emails_to_add[[\"id\", \"only_body\"]]\n",
    "emails_to_add[\"manual_label\"] = 3"
   ]
  },
  {
   "cell_type": "code",
   "execution_count": 16,
   "metadata": {},
   "outputs": [],
   "source": [
    "all_annotated_emails = emails_3[[\"id\", \"only_body\", \"manual_label\"]]\n",
    "all_annotated_emails = pd.concat([all_annotated_emails, emails_to_add])"
   ]
  },
  {
   "cell_type": "code",
   "execution_count": 23,
   "metadata": {},
   "outputs": [
    {
     "data": {
      "text/plain": [
       "0    14238\n",
       "2     4294\n",
       "3     3078\n",
       "1     1661\n",
       "Name: manual_label, dtype: int64"
      ]
     },
     "execution_count": 23,
     "metadata": {},
     "output_type": "execute_result"
    }
   ],
   "source": [
    "all_annotated_emails.manual_label.value_counts()"
   ]
  },
  {
   "cell_type": "markdown",
   "metadata": {},
   "source": [
    "## Get translated-French and translated-English"
   ]
  },
  {
   "cell_type": "code",
   "execution_count": null,
   "metadata": {},
   "outputs": [],
   "source": [
    "mydb = connection_database.connect_db()\n",
    "cursor = mydb.cursor()\n",
    "\n",
    "command = \"\"\"SELECT emails.id, content_fr, content_en FROM emails \n",
    "WHERE content_fr IS NOT NULL\"\"\"\n",
    "\n",
    "cursor.execute(command)\n",
    "table_rows = cursor.fetchall()\n",
    "emails_fr_nl = pd.DataFrame(table_rows, columns=cursor.column_names)"
   ]
  },
  {
   "cell_type": "code",
   "execution_count": null,
   "metadata": {},
   "outputs": [],
   "source": [
    "# The last name \"Meeuwsen\" is translated into \"seagulls\" in English and \"mouettes\" in French.\n",
    "# This re-translate seagulls and mouettes into \"Meeuwsen\"\n",
    "emails_fr_nl[\"content_en\"] = emails_fr_nl[\"content_en\"].apply(annotation_functions.fix_seagulls)\n",
    "emails_fr_nl[\"content_fr\"] = emails_fr_nl[\"content_fr\"].apply(annotation_functions.fix_mouettes)"
   ]
  },
  {
   "cell_type": "code",
   "execution_count": null,
   "metadata": {},
   "outputs": [],
   "source": [
    "final_to_export = all_annotated_emails.merge(emails_fr_nl, on = \"id\")"
   ]
  },
  {
   "cell_type": "markdown",
   "metadata": {},
   "source": [
    "## Save final dataset"
   ]
  },
  {
   "cell_type": "code",
   "execution_count": null,
   "metadata": {},
   "outputs": [],
   "source": [
    "with open('data_nl_english_french_23300.pkl', 'wb') as f:\n",
    "    pickle.dump(final_to_export, f)"
   ]
  }
 ],
 "metadata": {
  "instance_type": "ml.t3.medium",
  "kernelspec": {
   "display_name": "Python 3 (Data Science)",
   "language": "python",
   "name": "python3__SAGEMAKER_INTERNAL__arn:aws:sagemaker:eu-west-1:470317259841:image/datascience-1.0"
  },
  "language_info": {
   "codemirror_mode": {
    "name": "ipython",
    "version": 3
   },
   "file_extension": ".py",
   "mimetype": "text/x-python",
   "name": "python",
   "nbconvert_exporter": "python",
   "pygments_lexer": "ipython3",
   "version": "3.7.10"
  }
 },
 "nbformat": 4,
 "nbformat_minor": 4
}
