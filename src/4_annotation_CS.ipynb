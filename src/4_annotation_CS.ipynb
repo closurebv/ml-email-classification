{
 "cells": [
  {
   "cell_type": "code",
   "execution_count": null,
   "metadata": {},
   "outputs": [],
   "source": [
    "!python -m pip install mysql-connector-python"
   ]
  },
  {
   "cell_type": "code",
   "execution_count": 1,
   "metadata": {},
   "outputs": [],
   "source": [
    "import pandas as pd\n",
    "import pickle\n",
    "import re\n",
    "import mysql.connector\n",
    "import annotation_function\n",
    "import connection_database"
   ]
  },
  {
   "cell_type": "markdown",
   "metadata": {},
   "source": [
    "## Get emails of interest"
   ]
  },
  {
   "cell_type": "code",
   "execution_count": 2,
   "metadata": {},
   "outputs": [],
   "source": [
    "with open('list_ids_for_annotation.pkl', 'rb') as f:\n",
    "    ids_list = pickle.load(f)"
   ]
  },
  {
   "cell_type": "code",
   "execution_count": 3,
   "metadata": {},
   "outputs": [],
   "source": [
    "with open('dutch_cleaned_emails_id_body_org.pkl', 'rb') as f:\n",
    "    all_emails = pickle.load(f)"
   ]
  },
  {
   "cell_type": "code",
   "execution_count": 4,
   "metadata": {},
   "outputs": [],
   "source": [
    "# Keep only emails that will be used for annotation\n",
    "mask = all_emails['id'].isin(ids_list)\n",
    "emails = all_emails.loc[mask]"
   ]
  },
  {
   "cell_type": "markdown",
   "metadata": {},
   "source": [
    "## Get action from customer support"
   ]
  },
  {
   "cell_type": "code",
   "execution_count": 9,
   "metadata": {},
   "outputs": [],
   "source": [
    "mydb = connection_database.connect_db()\n",
    "cursor = mydb.cursor()\n",
    "\n",
    "command = \"\"\"SELECT emails.id, tickets.ticket_status_id , tickets.action_id  FROM emails \n",
    "JOIN tasks ON emails.task_id=tasks.id \n",
    "JOIN tickets ON emails.ticket_id=tickets.id\n",
    "WHERE organization_id IN \n",
    "(SELECT id FROM organizations WHERE default_pgrefid IS NULL)\n",
    "AND emails.from NOT LIKE '%@closure-services.nl%'\n",
    "AND emails.is_auto_receival=0\n",
    "AND emails.subject NOT LIKE \"%ntvangst bevestiging%\" \n",
    "AND emails.created_at > 20181231\n",
    "AND tickets.is_automated = 0 \n",
    "AND tickets.ticket_status_id != 6\"\"\"\n",
    "\n",
    "cursor.execute(command)\n",
    "table_rows = cursor.fetchall()\n",
    "actions = pd.DataFrame(table_rows, columns=cursor.column_names)"
   ]
  },
  {
   "cell_type": "code",
   "execution_count": 10,
   "metadata": {},
   "outputs": [],
   "source": [
    "emails = emails.merge(actions, on=\"id\")"
   ]
  },
  {
   "cell_type": "markdown",
   "metadata": {},
   "source": [
    "## Get label"
   ]
  },
  {
   "cell_type": "code",
   "execution_count": 13,
   "metadata": {},
   "outputs": [],
   "source": [
    "emails[\"label\"] = emails.apply(lambda x: annotation_function.get_label(x[\"ticket_status_id\"], x[\"action_id\"]), axis = 1)"
   ]
  },
  {
   "cell_type": "markdown",
   "metadata": {},
   "source": [
    "## Modify label for charities and journals"
   ]
  },
  {
   "cell_type": "code",
   "execution_count": 14,
   "metadata": {},
   "outputs": [],
   "source": [
    "command = \"\"\"SELECT id, organization_sector_id FROM organizations\"\"\"\n",
    "\n",
    "cursor.execute(command)\n",
    "table_rows = cursor.fetchall()\n",
    "org_sector = pd.DataFrame(table_rows, columns=cursor.column_names)"
   ]
  },
  {
   "cell_type": "code",
   "execution_count": 15,
   "metadata": {},
   "outputs": [],
   "source": [
    "# Get IDs of charities and journals\n",
    "org_id_char_jour = org_sector[(org_sector.organization_sector_id == 3) | (org_sector.organization_sector_id == 7)].id.tolist()"
   ]
  },
  {
   "cell_type": "code",
   "execution_count": 17,
   "metadata": {},
   "outputs": [],
   "source": [
    "emails[\"label_modified\"] = emails.apply(lambda x: annotation_function.fix_label_charity(x[\"organization_id\"], x[\"label\"], x[\"only_body\"], org_id_char_jour), axis = 1)"
   ]
  },
  {
   "cell_type": "markdown",
   "metadata": {},
   "source": [
    "## Get automatic emails"
   ]
  },
  {
   "cell_type": "code",
   "execution_count": 20,
   "metadata": {},
   "outputs": [],
   "source": [
    "emails[\"is_auto\"] = emails[\"only_body\"].apply(annotation_function.find_auto_emails)\n",
    "auto_emails = emails[emails.is_auto == 1]\n",
    "auto_id = auto_emails.id.tolist()"
   ]
  },
  {
   "cell_type": "code",
   "execution_count": 26,
   "metadata": {},
   "outputs": [],
   "source": [
    "# Save emails that are automatically sent (label 3)\n",
    "with open('list_ids_label3.pkl', 'wb') as f:\n",
    "    pickle.dump(auto_id, f)"
   ]
  },
  {
   "cell_type": "markdown",
   "metadata": {},
   "source": [
    "## Save customer support labels (without automatic emails)"
   ]
  },
  {
   "cell_type": "code",
   "execution_count": 26,
   "metadata": {},
   "outputs": [],
   "source": [
    "# Remove automatic emails\n",
    "emails = emails[emails.is_auto == 0]"
   ]
  },
  {
   "cell_type": "code",
   "execution_count": 28,
   "metadata": {},
   "outputs": [],
   "source": [
    "with open('label_CS_actions.pkl', 'wb') as f:\n",
    "    pickle.dump(emails[[\"id\", \"label_modified\"]], f)"
   ]
  }
 ],
 "metadata": {
  "instance_type": "ml.t3.medium",
  "kernelspec": {
   "display_name": "Python 3 (Data Science)",
   "language": "python",
   "name": "python3__SAGEMAKER_INTERNAL__arn:aws:sagemaker:eu-west-1:470317259841:image/datascience-1.0"
  },
  "language_info": {
   "codemirror_mode": {
    "name": "ipython",
    "version": 3
   },
   "file_extension": ".py",
   "mimetype": "text/x-python",
   "name": "python",
   "nbconvert_exporter": "python",
   "pygments_lexer": "ipython3",
   "version": "3.7.10"
  }
 },
 "nbformat": 4,
 "nbformat_minor": 4
}
