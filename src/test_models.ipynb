{
 "cells": [
  {
   "cell_type": "code",
   "execution_count": null,
   "id": "33643e9e",
   "metadata": {
    "id": "1105eacc"
   },
   "outputs": [],
   "source": [
    "!pip install transformers"
   ]
  },
  {
   "cell_type": "markdown",
   "id": "190f35fa",
   "metadata": {
    "id": "49861711"
   },
   "source": [
    "## Import librairies"
   ]
  },
  {
   "cell_type": "code",
   "execution_count": null,
   "id": "deea5b72",
   "metadata": {
    "executionInfo": {
     "elapsed": 250,
     "status": "ok",
     "timestamp": 1630497850933,
     "user": {
      "displayName": "Margaux Bout",
      "photoUrl": "",
      "userId": "14441531522132495975"
     },
     "user_tz": -120
    },
    "id": "tFf4X7cNIDjM"
   },
   "outputs": [],
   "source": [
    "import pickle\n",
    "import numpy as np\n",
    "import torch\n",
    "import fine_tuning_functions\n",
    "import test_models_functions\n",
    "\n",
    "# specify GPU\n",
    "device = torch.device(\"cuda\")"
   ]
  },
  {
   "cell_type": "markdown",
   "id": "5c677e21",
   "metadata": {
    "id": "6bcd56ca"
   },
   "source": [
    "## Load data"
   ]
  },
  {
   "cell_type": "code",
   "execution_count": null,
   "id": "7222f57c",
   "metadata": {
    "id": "d07322fc"
   },
   "outputs": [],
   "source": [
    "with open(\"data_nl_english_french_23300\", 'rb') as f:\n",
    "    data_english_french_nl = pickle.load(f)"
   ]
  },
  {
   "cell_type": "markdown",
   "id": "8831b843",
   "metadata": {},
   "source": [
    "## Define model and hyperparameters"
   ]
  },
  {
   "cell_type": "code",
   "execution_count": null,
   "id": "9a0be449",
   "metadata": {},
   "outputs": [],
   "source": [
    "model_name = \"mBERT_all\"\n",
    "lr = 0.0005\n",
    "dropout = 0.4\n",
    "epochs = 60\n",
    "folder_name = \"TPE_\" + model_name"
   ]
  },
  {
   "cell_type": "markdown",
   "id": "979a8467",
   "metadata": {
    "id": "add55ed8"
   },
   "source": [
    "## Split dataset into train, validation and test sets"
   ]
  },
  {
   "cell_type": "code",
   "execution_count": null,
   "id": "fb65e181",
   "metadata": {
    "id": "-b562BevOAHq"
   },
   "outputs": [],
   "source": [
    "train_text, train_labels, val_text, val_labels, test_text, test_labels = fine_tuning_functions.split_dataset(data_english_french_nl, model_name)"
   ]
  },
  {
   "cell_type": "markdown",
   "id": "d0df437b",
   "metadata": {
    "id": "7019d006"
   },
   "source": [
    "## Plot losses"
   ]
  },
  {
   "cell_type": "code",
   "execution_count": null,
   "id": "ee5aaeb2",
   "metadata": {},
   "outputs": [],
   "source": [
    "all_epochs, train_losses, valid_losses = test_models_functions.get_epochs_train_val_losses(lr, dropout, epochs, folder_name)"
   ]
  },
  {
   "cell_type": "code",
   "execution_count": null,
   "id": "5285f8dc",
   "metadata": {},
   "outputs": [],
   "source": [
    "test_models_functions.plot_train_val_losses(all_epochs, train_losses, valid_losses)"
   ]
  },
  {
   "cell_type": "code",
   "execution_count": null,
   "id": "9ab4e42f",
   "metadata": {
    "id": "E0EdKCnYMKby"
   },
   "outputs": [],
   "source": [
    "# Print the best epoch with the lowest validation loss\n",
    "print(np.argmin(valid_losses))"
   ]
  },
  {
   "cell_type": "markdown",
   "id": "0ab70ee0",
   "metadata": {
    "id": "eKrRTDprziJL"
   },
   "source": [
    "## Metrics on test set"
   ]
  },
  {
   "cell_type": "code",
   "execution_count": null,
   "id": "dfc22277",
   "metadata": {},
   "outputs": [],
   "source": [
    "model = test_models_functions.get_model(model_name, folder_name, lr, dropout, epochs)"
   ]
  },
  {
   "cell_type": "code",
   "execution_count": null,
   "id": "dacbfd84",
   "metadata": {},
   "outputs": [],
   "source": [
    "# If the model is multilingual\n",
    "if \"test\" in model_name or \"all\" in model_name:\n",
    "    # Get test tensors\n",
    "    test_seq_nl, test_mask_nl, test_seq_en, test_mask_en, test_seq_fr, test_mask_fr, test_y = test_models_functions.get_test_tensors(model_name, test_text, test_labels)\n",
    "    \n",
    "    # Print metrics\n",
    "    test_models_functions.print_accuracy_test_multilingual(model, test_seq_nl, test_mask_nl, test_seq_en, test_mask_en, test_seq_fr, test_mask_fr, test_y, device, model_name)\n",
    "    test_models_functions.print_precision_recall_f1_test_multilingual(model, test_seq_nl, test_mask_nl, test_seq_en, test_mask_en, test_seq_fr, test_mask_fr, test_y, device, model_name)\n",
    "    \n",
    "else:\n",
    "    # Get test tensors\n",
    "    test_seq, test_mask, test_y = test_models_functions.get_test_tensors(model_name, test_text, test_labels)\n",
    "    \n",
    "    # Print metrics\n",
    "    test_models_functions.print_accuracy_test_unilingual(model, test_seq, test_mask, test_y, device, model_name)\n",
    "    test_models_functions.print_precision_recall_f1_test_unilingual(model, test_seq, test_mask, test_y, device, model_name)"
   ]
  }
 ],
 "metadata": {
  "accelerator": "GPU",
  "colab": {
   "collapsed_sections": [],
   "name": "BERT_Mean_clean_test.ipynb",
   "provenance": []
  },
  "environment": {
   "name": "pytorch-gpu.1-9.m74",
   "type": "gcloud",
   "uri": "gcr.io/deeplearning-platform-release/pytorch-gpu.1-9:m74"
  },
  "kernelspec": {
   "display_name": "Python [conda env:root] *",
   "language": "python",
   "name": "conda-root-py"
  },
  "language_info": {
   "codemirror_mode": {
    "name": "ipython",
    "version": 3
   },
   "file_extension": ".py",
   "mimetype": "text/x-python",
   "name": "python",
   "nbconvert_exporter": "python",
   "pygments_lexer": "ipython3",
   "version": "3.7.10"
  }
 },
 "nbformat": 4,
 "nbformat_minor": 5
}
